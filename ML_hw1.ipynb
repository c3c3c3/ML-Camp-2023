{
 "cells": [
  {
   "cell_type": "code",
   "execution_count": 34,
   "metadata": {},
   "outputs": [
    {
     "data": {
      "text/plain": [
       "'1.4.3'"
      ]
     },
     "execution_count": 34,
     "metadata": {},
     "output_type": "execute_result"
    }
   ],
   "source": [
    "#task 1\n",
    "import pandas as pd\n",
    "\n",
    "pd.__version__"
   ]
  },
  {
   "cell_type": "code",
   "execution_count": 35,
   "metadata": {},
   "outputs": [
    {
     "name": "stdout",
     "output_type": "stream",
     "text": [
      "   longitude  latitude  housing_median_age  total_rooms  total_bedrooms  \\\n",
      "0    -122.23     37.88                41.0        880.0           129.0   \n",
      "1    -122.22     37.86                21.0       7099.0          1106.0   \n",
      "2    -122.24     37.85                52.0       1467.0           190.0   \n",
      "3    -122.25     37.85                52.0       1274.0           235.0   \n",
      "4    -122.25     37.85                52.0       1627.0           280.0   \n",
      "\n",
      "   population  households  median_income  median_house_value ocean_proximity  \n",
      "0       322.0       126.0         8.3252            452600.0        NEAR BAY  \n",
      "1      2401.0      1138.0         8.3014            358500.0        NEAR BAY  \n",
      "2       496.0       177.0         7.2574            352100.0        NEAR BAY  \n",
      "3       558.0       219.0         5.6431            341300.0        NEAR BAY  \n",
      "4       565.0       259.0         3.8462            342200.0        NEAR BAY  \n"
     ]
    }
   ],
   "source": [
    "#task 2\n",
    "import pandas as pd\n",
    "data = pd.read_csv(\"C:\\Temp\\hw1.csv\")\n",
    "df=pd.DataFrame(data,columns=data.columns)\n",
    "print(df.head())"
   ]
  },
  {
   "cell_type": "code",
   "execution_count": 21,
   "metadata": {},
   "outputs": [
    {
     "name": "stdout",
     "output_type": "stream",
     "text": [
      "['total_bedrooms']\n"
     ]
    }
   ],
   "source": [
    "#task 3\n",
    "import pandas as pd\n",
    "data = pd.read_csv(\"C:\\Temp\\hw1.csv\")\n",
    "df=pd.DataFrame(data,columns=data.columns)\n",
    "print([i for i in df.columns if df[i].isnull().any()])"
   ]
  },
  {
   "cell_type": "code",
   "execution_count": 25,
   "metadata": {},
   "outputs": [
    {
     "name": "stdout",
     "output_type": "stream",
     "text": [
      "5\n"
     ]
    }
   ],
   "source": [
    "#task 4\n",
    "import pandas as pd\n",
    "data = pd.read_csv(\"C:\\Temp\\hw1.csv\")\n",
    "df=pd.DataFrame(data,columns=data.columns)\n",
    "print(df[\"ocean_proximity\"].nunique())"
   ]
  },
  {
   "cell_type": "code",
   "execution_count": 39,
   "metadata": {},
   "outputs": [
    {
     "name": "stdout",
     "output_type": "stream",
     "text": [
      "259212.31179039303\n"
     ]
    }
   ],
   "source": [
    "import pandas as pd\n",
    "data = pd.read_csv(\"C:\\Temp\\hw1.csv\")\n",
    "df=pd.DataFrame(data,columns=data.columns)\n",
    "print(df[df['ocean_proximity']==\"NEAR BAY\"].median_house_value.mean())"
   ]
  },
  {
   "cell_type": "code",
   "execution_count": 55,
   "metadata": {},
   "outputs": [
    {
     "name": "stdout",
     "output_type": "stream",
     "text": [
      "537.8705525375618\n",
      "537.8705525375617\n",
      "True\n"
     ]
    }
   ],
   "source": [
    "#task 6\n",
    "import pandas as pd\n",
    "data = pd.read_csv(\"C:\\Temp\\hw1.csv\")\n",
    "df=pd.DataFrame(data,columns=data.columns)\n",
    "df_mean=df[\"total_bedrooms\"].mean()\n",
    "print(df_mean)\n",
    "df=df[\"total_bedrooms\"].fillna(value=df_mean)\n",
    "df2=df.mean()\n",
    "print(df2)\n",
    "print(df_mean!=df2)"
   ]
  },
  {
   "cell_type": "code",
   "execution_count": 105,
   "metadata": {},
   "outputs": [
    {
     "name": "stdout",
     "output_type": "stream",
     "text": [
      "(5, 5)\n",
      "[25.79544783 -0.67706108  2.13434696]\n"
     ]
    }
   ],
   "source": [
    "import pandas as pd\n",
    "import numpy as np\n",
    "\n",
    "data = pd.read_csv(\"C:\\Temp\\hw1.csv\")\n",
    "df=pd.DataFrame(data,columns=data.columns)\n",
    "cols=df[[\"housing_median_age\",\"total_rooms\",\"total_bedrooms\"]][df[\"ocean_proximity\"] == 'ISLAND']\n",
    "#print(cols)\n",
    "\n",
    "X=np.array(cols)\n",
    "#print(X.shape)\n",
    "\n",
    "XTX=X.dot(X.T)\n",
    "print(XTX.shape)\n",
    "\n",
    "iXTX=np.linalg.inv(XTX)\n",
    "\n",
    "y=np.array([950, 1300, 800, 1000, 1300])\n",
    "XT=X.T\n",
    "w0=XT.dot(iXTX)\n",
    "print(w0.dot(y))"
   ]
  }
 ],
 "metadata": {
  "kernelspec": {
   "display_name": "Python 3.10.7 64-bit (microsoft store)",
   "language": "python",
   "name": "python3"
  },
  "language_info": {
   "codemirror_mode": {
    "name": "ipython",
    "version": 3
   },
   "file_extension": ".py",
   "mimetype": "text/x-python",
   "name": "python",
   "nbconvert_exporter": "python",
   "pygments_lexer": "ipython3",
   "version": "3.10.7"
  },
  "orig_nbformat": 4,
  "vscode": {
   "interpreter": {
    "hash": "14fafa62dc49a50120671e92e69350c9818c8fbd945916a7a365ebe07be6ae47"
   }
  }
 },
 "nbformat": 4,
 "nbformat_minor": 2
}
